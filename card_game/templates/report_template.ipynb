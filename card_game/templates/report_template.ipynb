{
 "cells": [
  {
   "cell_type": "markdown",
   "id": "779272c9-03a6-4898-9a08-009be7e6e25e",
   "metadata": {
    "editable": true,
    "slideshow": {
     "slide_type": ""
    },
    "tags": []
   },
   "source": [
    "# Card game execution report"
   ]
  },
  {
   "cell_type": "code",
   "execution_count": null,
   "id": "8895dc3e-5c45-43c3-afcc-a24521530e9c",
   "metadata": {
    "editable": true,
    "slideshow": {
     "slide_type": ""
    },
    "tags": []
   },
   "outputs": [],
   "source": [
    "import sys\n",
    "import pandas as pd\n",
    "import plotly\n",
    "import plotly.express as px\n",
    "import plotly.offline as pyo\n",
    "pyo.init_notebook_mode()\n",
    "\n",
    "sys.path.append('../')\n",
    "from card_game.model.run import run"
   ]
  },
  {
   "cell_type": "code",
   "execution_count": null,
   "id": "e38325c2-ec24-4041-a704-a24557b573be",
   "metadata": {
    "editable": true,
    "slideshow": {
     "slide_type": ""
    },
    "tags": [
     "parameters"
    ]
   },
   "outputs": [],
   "source": [
    "steps_num = 0"
   ]
  },
  {
   "cell_type": "code",
   "execution_count": null,
   "id": "02a62355-e9cc-4ea2-8996-f37ecf9c4831",
   "metadata": {
    "editable": true,
    "slideshow": {
     "slide_type": ""
    },
    "tags": []
   },
   "outputs": [],
   "source": [
    "%%time\n",
    "res = run(timesteps_num=steps_num)"
   ]
  },
  {
   "cell_type": "markdown",
   "id": "0e820a8e-0bd4-4890-8a51-daf5a5b178f3",
   "metadata": {},
   "source": [
    "## Number of active players in game"
   ]
  },
  {
   "cell_type": "code",
   "execution_count": null,
   "id": "767337c2-2648-411e-a499-e8efba807057",
   "metadata": {
    "editable": true,
    "slideshow": {
     "slide_type": ""
    },
    "tags": []
   },
   "outputs": [],
   "source": [
    "px.line(res, x='timestep', y='players_num', title=\"Number of players\", height=600)"
   ]
  },
  {
   "cell_type": "markdown",
   "id": "668e15a2-dfd6-4bec-a410-c80889c13b57",
   "metadata": {},
   "source": [
    "## Quantity of usd in game's treasure"
   ]
  },
  {
   "cell_type": "code",
   "execution_count": null,
   "id": "6008bf5c-1140-4d4b-a932-baab09821b22",
   "metadata": {},
   "outputs": [],
   "source": [
    "px.line(res, x='timestep', y='treasure', title=\"System treasure\", height=600)"
   ]
  },
  {
   "cell_type": "markdown",
   "id": "18c1a089-53c7-4145-bb2e-3786f2d55b26",
   "metadata": {},
   "source": [
    "## Maximum number of active golden cards of current season per player"
   ]
  },
  {
   "cell_type": "code",
   "execution_count": null,
   "id": "782d37db-de46-4a3c-8ab2-dbff6de685f5",
   "metadata": {},
   "outputs": [],
   "source": [
    "px.line(res, x='timestep', y='g_cards_max_per_player', title=\"Maximum active current golden cards per player\", height=600)"
   ]
  },
  {
   "cell_type": "markdown",
   "id": "e9499beb-d627-479a-aad9-41bac7fd0532",
   "metadata": {},
   "source": [
    "## Number of jackpots won by all player from beginning"
   ]
  },
  {
   "cell_type": "code",
   "execution_count": null,
   "id": "fd22da78-0d53-407f-85e0-0983f8446d27",
   "metadata": {},
   "outputs": [],
   "source": [
    "px.line(res, x='timestep', y=['collusions_num', 'jackpots_num'], title=\"Number of jackpots won by players\", height=600)"
   ]
  },
  {
   "cell_type": "markdown",
   "id": "8bb01875-e88c-45c5-9a51-2a1ffaf63798",
   "metadata": {},
   "source": [
    "## Quantity of bids in golden cards' order books"
   ]
  },
  {
   "cell_type": "code",
   "execution_count": null,
   "id": "c11dc61c-debf-42d8-a984-1d5e3756620f",
   "metadata": {},
   "outputs": [],
   "source": [
    "px.line(res, x='timestep', y=['sell_g_orders_num', 'buy_g_orders_num'], title=\"Fullness of golden cards' order books\", height=600)"
   ]
  },
  {
   "cell_type": "markdown",
   "id": "fdd01398-b983-4e0f-bb51-3add7d0e6c52",
   "metadata": {},
   "source": [
    "## Price of active golden card of current season on second market, usd"
   ]
  },
  {
   "cell_type": "code",
   "execution_count": null,
   "id": "85cecc19-c56c-43f3-b6f1-92b8c052de4d",
   "metadata": {},
   "outputs": [],
   "source": [
    "px.line(res, x='timestep', y='g_card_marketprice', title=\"Price of golden card on market, usd\", height=600)"
   ]
  },
  {
   "cell_type": "markdown",
   "id": "577ba13f-d156-490c-ac4d-9c0d34bb77f8",
   "metadata": {},
   "source": [
    "## Quantity of bids in ordinary cards' order books"
   ]
  },
  {
   "cell_type": "code",
   "execution_count": null,
   "id": "b705dffe-bd29-46d6-9fe1-bf0727cd02bd",
   "metadata": {},
   "outputs": [],
   "source": [
    "px.line(res, x='timestep', y=['sell_orders_num', 'buy_orders_num'], title=\"Fullness of ordinary cards' order books\", height=600)"
   ]
  },
  {
   "cell_type": "markdown",
   "id": "651e9534-5299-422b-86cd-207295f52f84",
   "metadata": {},
   "source": [
    "## Price of ordinary card on second market, usd"
   ]
  },
  {
   "cell_type": "code",
   "execution_count": null,
   "id": "65a3a76f-3532-4e63-8b5c-c9b2ad1d652c",
   "metadata": {},
   "outputs": [],
   "source": [
    "px.line(res, x='timestep', y='card_marketprice', title=\"Price of ordinary card on market, usd\", height=600)"
   ]
  }
 ],
 "metadata": {
  "kernelspec": {
   "display_name": "Python 3 (ipykernel)",
   "language": "python",
   "name": "python3"
  },
  "language_info": {
   "codemirror_mode": {
    "name": "ipython",
    "version": 3
   },
   "file_extension": ".py",
   "mimetype": "text/x-python",
   "name": "python",
   "nbconvert_exporter": "python",
   "pygments_lexer": "ipython3",
   "version": "3.9.18"
  }
 },
 "nbformat": 4,
 "nbformat_minor": 5
}
